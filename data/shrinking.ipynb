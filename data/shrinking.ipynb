{
 "cells": [
  {
   "cell_type": "markdown",
   "metadata": {},
   "source": [
    "This code snippet executes and analyses the shrinkage of target word sets from all stimuli datasets"
   ]
  },
  {
   "cell_type": "code",
   "execution_count": 9,
   "metadata": {},
   "outputs": [],
   "source": [
    "import json\n",
    "import os\n",
    "import random\n",
    "\n",
    "random.seed(1111)\n",
    "\n",
    "from transformers import BertTokenizer"
   ]
  },
  {
   "cell_type": "code",
   "execution_count": 10,
   "metadata": {
    "scrolled": true
   },
   "outputs": [],
   "source": [
    "# import original stimuli datasets\n",
    "\n",
    "TEST_EXT = '.jsonl'\n",
    "all_tests = sorted([entry[:-len(TEST_EXT)]\n",
    "                        for entry in os.listdir()\n",
    "                        if not entry.startswith('.') and entry.endswith('word' + TEST_EXT)])\n",
    "\n",
    "tests_original = {bias_test: {'targ1': None, 'targ2': None, 'attr1': None, 'attr2': None} for bias_test in all_tests}\n",
    "tests_shrunken = {bias_test: {'targ1': {}, 'targ2': {}, 'attr1': {}, 'attr2': {}} for bias_test in all_tests}\n",
    "\n",
    "for test in all_tests:\n",
    "    file = json.load(open(test+TEST_EXT, 'r'))\n",
    "    tests_original[test]['targ1'] = file['targ1']['examples_singular']\n",
    "    tests_original[test]['targ2'] = file['targ2']['examples_singular']\n",
    "    tests_original[test]['attr1'] = file['attr1']['examples_singular']\n",
    "    tests_original[test]['attr2'] = file['attr2']['examples_singular']"
   ]
  },
  {
   "cell_type": "code",
   "execution_count": 11,
   "metadata": {},
   "outputs": [],
   "source": [
    "# load BERT (bbu) tokenizer from local files\n",
    "tokenizer = BertTokenizer.from_pretrained('../models/bert/base-uncased/')"
   ]
  },
  {
   "cell_type": "code",
   "execution_count": 12,
   "metadata": {},
   "outputs": [],
   "source": [
    "def filter_stimuli(stimuli_lst, tokenizer):\n",
    "    \"\"\" Function to shrink word list \"\"\"\n",
    "    return [w.strip().lower() for w in stimuli_lst if w.strip().lower() in tokenizer.vocab]\n",
    "\n",
    "for test in all_tests:\n",
    "    # shrink original target word sets\n",
    "    tests_shrunken[test]['targ1']['examples_singular'] = filter_stimuli(tests_original[test]['targ1'], tokenizer)\n",
    "    tests_shrunken[test]['targ2']['examples_singular'] = filter_stimuli(tests_original[test]['targ2'], tokenizer)\n",
    "    # save respective attribute word sets\n",
    "    tests_shrunken[test]['attr1']['examples_singular'] = tests_original[test]['attr1']\n",
    "    tests_shrunken[test]['attr2']['examples_singular'] = tests_original[test]['attr2']\n",
    "    \n",
    "    # target word sets have to be of equal size\n",
    "    if len(tests_shrunken[test]['targ1']['examples_singular']) != len(tests_shrunken[test]['targ2']['examples_singular']):\n",
    "        min_n = min([len(tests_shrunken[test]['targ1']['examples_singular']), len(tests_shrunken[test]['targ2']['examples_singular'])])\n",
    "        # randomly sample min number of stimuli for both word sets\n",
    "        if not len(tests_shrunken[test]['targ1']['examples_singular']) == min_n:\n",
    "            tests_shrunken[test]['targ1']['examples_singular'] = random.sample(tests_shrunken[test]['targ1']['examples_singular'], min_n)\n",
    "        else:\n",
    "            tests_shrunken[test]['targ2']['examples_singular'] = random.sample(tests_shrunken[test]['targ2']['examples_singular'], min_n)\n"
   ]
  },
  {
   "cell_type": "code",
   "execution_count": 13,
   "metadata": {},
   "outputs": [],
   "source": [
    "# save word sets\n",
    "for test in all_tests:\n",
    "    # only save test if target word sets are not empty\n",
    "    if len(tests_shrunken[test]['targ1']['examples_singular']) > 0:\n",
    "        with open('stimuli_logprob/shrunken_wd_sets/'+test+'.jsonl', 'w') as file:\n",
    "            json.dump(tests_shrunken[test], file,  indent=4)"
   ]
  },
  {
   "cell_type": "markdown",
   "metadata": {},
   "source": [
    "Despite datasets containing stimuli which consist of multiple words, e.g. `C3_term_word`, there are no target stimuli left after shrinking for the bias tests `IBD_name_word` and `EIBD_name_word`. Further, `C9m_name_word` does not differ with respect to the target words from `C9_name_word` and thus the following analysis is conducted for the remaining bias tests:\n",
    "- C1_name\n",
    "- C3_name\n",
    "- C6_name\n",
    "- C6_term\n",
    "- C9_name\n",
    "- C9_term\n",
    "- Occ_name\n",
    "- Occ_term"
   ]
  },
  {
   "cell_type": "code",
   "execution_count": 18,
   "metadata": {},
   "outputs": [],
   "source": [
    "import matplotlib.pyplot as plt\n",
    "import pandas as pd"
   ]
  },
  {
   "cell_type": "code",
   "execution_count": 55,
   "metadata": {},
   "outputs": [
    {
     "name": "stdout",
     "output_type": "stream",
     "text": [
      "                     prop\n",
      "C1_name_word    36.000000\n",
      "C3_name_word    31.250000\n",
      "C6_name_word   100.000000\n",
      "C9_name_word    42.857143\n",
      "Occ_name_word   57.692308\n",
      "C6_term_word   100.000000\n",
      "C9_term_word    66.666667\n",
      "Occ_term_word  100.000000\n"
     ]
    }
   ],
   "source": [
    "tests = ['C1_name_word', 'C3_name_word', 'C6_name_word', 'C9_name_word', 'Occ_name_word', 'C6_term_word', 'C9_term_word', 'Occ_term_word']\n",
    "data = {'prop': [(len(tests_shrunken[test]['targ1']) / len(tests_original[test]['targ1']))*100 for test in tests]}\n",
    "df = pd.DataFrame(data,columns=['prop'], index = tests)\n",
    "print(df)"
   ]
  },
  {
   "cell_type": "code",
   "execution_count": 63,
   "metadata": {},
   "outputs": [
    {
     "data": {
      "image/png": "[encoded data removed]",
      "text/plain": [
       "<Figure size 640x440 with 1 Axes>"
      ]
     },
     "metadata": {},
     "output_type": "display_data"
    }
   ],
   "source": [
    "plt.style.use('seaborn')\n",
    "\n",
    "df.sort_values(by='prop').plot.barh()\n",
    "#plt.ylabel('Bias test')\n",
    "plt.xlabel('Proportion in % after retention')\n",
    "plt.savefig('../shrinkage.png',bbox_inches=\"tight\")\n",
    "plt.show()"
   ]
  },
  {
   "cell_type": "markdown",
   "metadata": {},
   "source": [
    "For `C6_name_word`, `C6_term_word`, and `Occ_term_word`, all stimuli exist in vocab and thus no shrinkage."
   ]
  },
  {
   "cell_type": "code",
   "execution_count": 59,
   "metadata": {},
   "outputs": [
    {
     "name": "stdout",
     "output_type": "stream",
     "text": [
      "prop    66.808265\n",
      "dtype: float64\n"
     ]
    }
   ],
   "source": [
    "print(df.mean())"
   ]
  },
  {
   "cell_type": "code",
   "execution_count": 60,
   "metadata": {},
   "outputs": [
    {
     "name": "stdout",
     "output_type": "stream",
     "text": [
      "C9_name_word\n",
      "C9_term_word\n"
     ]
    }
   ],
   "source": [
    "for test in ['C1_name_word', 'C3_name_word', 'C9_name_word', 'C9_term_word', 'Occ_name_word']:\n",
    "    number_stimuli = len(tests_shrunken[test]['targ1'])\n",
    "    if number_stimuli < 8:\n",
    "        print(test)"
   ]
  },
  {
   "cell_type": "markdown",
   "metadata": {},
   "source": [
    "Further, for `C9_name_word` and `C9_term_word` less than 8 stimuli per target word set remain after the shrinkage. This indicates no statistically significant concept representation."
   ]
  },
  {
   "cell_type": "markdown",
   "metadata": {},
   "source": [
    "To conclude, only 6 out of 12 bias test are satisfactory after the shrinkage."
   ]
  },
  {
   "cell_type": "code",
   "execution_count": null,
   "metadata": {},
   "outputs": [],
   "source": []
  }
 ],
 "metadata": {
  "kernelspec": {
   "display_name": "Python 3",
   "language": "python",
   "name": "python3"
  },
  "language_info": {
   "codemirror_mode": {
    "name": "ipython",
    "version": 3
   },
   "file_extension": ".py",
   "mimetype": "text/x-python",
   "name": "python",
   "nbconvert_exporter": "python",
   "pygments_lexer": "ipython3",
   "version": "3.7.6"
  },
  "pycharm": {
   "stem_cell": {
    "cell_type": "raw",
    "source": [],
    "metadata": {
     "collapsed": false
    }
   }
  }
 },
 "nbformat": 4,
 "nbformat_minor": 4
}