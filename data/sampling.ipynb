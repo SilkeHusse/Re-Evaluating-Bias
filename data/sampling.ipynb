{
 "cells": [
  {
   "cell_type": "markdown",
   "metadata": {},
   "source": [
    "This code snippet executes random sampling of n words given a word list"
   ]
  },
  {
   "cell_type": "code",
   "execution_count": 1,
   "metadata": {},
   "outputs": [],
   "source": [
    "import random\n",
    "random.seed(1111)"
   ]
  },
  {
   "cell_type": "code",
   "execution_count": 2,
   "metadata": {
    "scrolled": true
   },
   "outputs": [],
   "source": [
    "# for file 'Dis_term_word.jsonl'\n",
    "\n",
    "nonrecommended_n = 23\n",
    "nonrecommended_list = [\"the deaf\", \"a deaf mute person\", \"a deaf and dumb person\", \"a sight deficient person\", \"a person with sight problems\", \"the disabled\", \"a disabled person\", \"a differently abled person\", \"a handi-capable person\", \"a crippled person\", \"a cripple\", \"a deformed person\", \"a person restricted to a wheelchair\", \"a person confined to a wheelchair\", \"a wheelchair-bound person\", \"a handicapped person\", \"a lame person\", \"a cerebral-palsied person\", \"an insane person\", \"an emotionally disturbed person\", \"an epileptic person\", \"a paraplegic\", \"a quadriplegic\", \"a physically challenged person\", \"a hunchbacked person\", \"an invalid\", \"a midget\", \"a dwarf\", \"a retarded person\", \"a deranged person\", \"a deviant person\", \"a demented person\", \"a slow learner\", \"a mongoloid\", \"a normal person\"\n",
    "    ]\n",
    "negative_n = 230\n",
    "negative_list = ['absentminded', 'aggressive', 'ambitious', 'amusing', 'artful', 'ascetic', 'authoritarian', 'big-thinking', 'boyish', 'breezy', 'businesslike', 'busy', 'casual', 'cerebral', 'chummy', 'circumspect', 'competitive', 'complex', 'confidential', 'conservative', 'contradictory', 'crisp', 'cute', 'deceptive', 'determined', 'dominating', 'dreamy', 'driving', 'droll', 'dry', 'earthy', 'effeminate', 'emotional', 'enigmatic', 'experimental', 'familial', 'folksy', 'formal', 'freewheeling', 'frugal', 'glamorous', 'guileless', 'high-spirited', 'hurried', 'hypnotic', 'iconoclastic', 'idiosyncratic', 'impassive', 'impersonal', 'impressionable', 'intense', 'invisible', 'irreligious', 'irreverent', 'maternal', 'mellow', 'modern', 'moralistic', 'mystical', 'neutral', 'noncommittal', 'noncompetitive', 'obedient', 'old-fashioned', 'ordinary', 'outspoken', 'paternalistic', 'physical', 'placid', 'political', 'predictable', 'preoccupied', 'private', 'progressive', 'proud', 'pure', 'questioning', 'quiet', 'religious', 'reserved', 'restrained', 'retiring', 'sarcastic', 'self-conscious', 'sensual', 'skeptical', 'smooth', 'soft', 'solemn', 'solitary', 'stern', 'strict', 'stubborn', 'stylish', 'subjective', 'surprising', 'soft', 'tough', 'unaggressive', 'unambitious', 'unceremonious', 'unchanging', 'undemanding', 'unfathomable', 'unhurried', 'uninhibited', 'unpatriotic', 'unpredictable', 'unsentimental', 'whimsical', 'abrasive', 'abrupt', 'agonizing', 'aggressive', 'aimless', 'aloof', 'amoral', 'angry', 'anxious', 'apathetic', 'arbitrary', 'argumentative', 'arrogant', 'artificial', 'asocial', 'bewildered', 'bizarre', 'bland', 'blunt', 'boisterous', 'brittle', 'brutal', 'calculating', 'callous', 'cantankerous', 'careless', 'charmless', 'childish', 'clumsy', 'coarse', 'cold', 'colorless', 'complacent', 'complaining', 'compulsive', 'conceited', 'condemnatory', 'conformist', 'confused', 'contemptible', 'conventional', 'cowardly', 'crass', 'crazy', 'criminal', 'critical', 'crude', 'cruel', 'cynical', 'decadent', 'deceitful', 'delicate', 'demanding', 'dependent', 'desperate', 'destructive', 'devious', 'difficult', 'disconcerting', 'discontented', 'discouraging', 'discourteous', 'dishonest', 'disloyal', 'disobedient', 'disorderly', 'disorganized', 'disputatious', 'disrespectful', 'disruptive', 'dissonant', 'distractible', 'disturbing', 'dogmatic', 'domineering', 'dull', 'easily discouraged', 'egocentric', 'envious', 'erratic', 'escapist', 'extravagant', 'extreme', 'faithless', 'false', 'fanatical', 'fanciful', 'fatalistic', 'fawning', 'fearful', 'fickle', 'fiery', 'fixed', 'flamboyant', 'foolish', 'forgetful', 'fraudulent', 'frightening', 'frivolous', 'gloomy', 'graceless', 'greedy', 'grim', 'gullible', 'hateful', 'haughty', 'hedonistic', 'hesitant', 'hidebound', 'high-handed', 'hostile', 'ignorant', 'imitative', 'impatient', 'impractical', 'imprudent', 'impulsive', 'inconsiderate', 'incurious', 'indecisiveindulgentinert', 'inhibited', 'insecure', 'insensitive', 'insincere', 'insulting', 'intolerant', 'irascible', 'irrational', 'irresponsible', 'irritable', 'lazy', 'malicious', 'mannerless', 'mechanical', 'meddlesome', 'melancholic', 'messy', 'miserable', 'miserly', 'misguided', 'mistaken', 'money-minded', 'moody', 'morbid', 'muddle-headed', 'naive', 'narcissistic', 'narrow', 'narrow-minded', 'negative', 'neglectful', 'neurotic', 'nihilistic', 'obnoxious', 'obsessive', 'obvious', 'odd', 'offhand', 'one-dimensional', 'one-sided', 'opinionated', 'opportunistic', 'oppressed', 'outrageous', 'paranoid', 'passive', 'pedantic', 'perverse', 'petty', 'plodding', 'pompous', 'possessive', 'power-hungry', 'predatory', 'prejudiced', 'presumptuous', 'pretentious', 'prim', 'procrastinating', 'provocative', 'puritanical', 'quirky', 'reactionary', 'reactive', 'regimental', 'regretful', 'repentant', 'repressed', 'resentful', 'ridiculous', 'rigid', 'ritualistic', 'ruined', 'sadistic', 'sanctimonious', 'scheming', 'scornful', 'secretive', 'sedentary', 'selfish', 'self-indulgent', 'shallow', 'shortsighted', 'sloppy', 'slow', 'sly', 'small-thinking', 'softheaded', 'sordid', 'steely', 'stiff', 'stupid', 'submissive', 'superficial', 'superstitious', 'suspicious', 'tactless', 'tasteless', 'tense', 'thievish', 'thoughtless', 'timid', 'transparent', 'treacherous', 'trendy', 'troublesome', 'unappreciative', 'uncaring', 'uncharitable', 'unconvincing', 'uncooperative', 'uncreative', 'uncritical', 'unctuous', 'undisciplined', 'unfriendly', 'ungrateful', 'unhealthy', 'unimaginative', 'unimpressive', 'unlovable', 'unpolished', 'unprincipled', 'unrealistic', 'unreflective', 'unreliable', 'unrestrained', 'unstable', 'vacuous', 'vague', 'venomous', 'vindictive', 'vulnerable', 'weak', 'willful']\n",
    "\n",
    "sampled_words_nonrecommended = random.sample(nonrecommended_list, nonrecommended_n)\n",
    "sampled_words_negative = random.sample(negative_list, negative_n)"
   ]
  }
 ],
 "metadata": {
  "kernelspec": {
   "display_name": "Python 3",
   "language": "python",
   "name": "python3"
  },
  "language_info": {
   "codemirror_mode": {
    "name": "ipython",
    "version": 3
   },
   "file_extension": ".py",
   "mimetype": "text/x-python",
   "name": "python",
   "nbconvert_exporter": "python",
   "pygments_lexer": "ipython3",
   "version": "3.7.6"
  },
  "pycharm": {
   "stem_cell": {
    "cell_type": "raw",
    "source": [],
    "metadata": {
     "collapsed": false
    }
   }
  }
 },
 "nbformat": 4,
 "nbformat_minor": 4
}